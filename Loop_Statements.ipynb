{
  "nbformat": 4,
  "nbformat_minor": 0,
  "metadata": {
    "colab": {
      "provenance": [],
      "authorship_tag": "ABX9TyNmslnGZX+L9vQyrFrl7jCW", 
      "include_colab_link": true
    },
    "kernelspec": {
      "name": "python3",
      "display_name": "Python 3"
    },
    "language_info": {
      "name": "python"
    }
  },
  "cells": [
    {
      "cell_type": "markdown",
      "metadata": {
        "id": "view-in-github",
        "colab_type": "text"
      },
      "source": [
        "<a href=\"https://colab.research.google.com/github/TutanesAllen/CpE0332.1-1-Elective-3/blob/main/Loop_Statements.ipynb\" target=\"_parent\"><img src=\"https://colab.research.google.com/assets/colab-badge.svg\" alt=\"Open In Colab\"/></a>"
      ]
    },
    {
      "cell_type": "markdown",
      "source": [
        "Example 1"
      ],
      "metadata": {
        "id": "F84rJ_4EgkMY"
      }
    },
    {
      "cell_type": "code",
      "source": [
        "week=[\"Sunday\",\"Monday\",\"Tuesday\",\"Wednesday\",\"Thursday\",\"Friday\",\"Saturday\"]\n",
        "for x in week:\n",
        "  print(x)"
      ],
      "metadata": {
        "colab": {
          "base_uri": "https://localhost:8080/"
        },
        "id": "6WqFsJPMgmkP",
        "outputId": "7351b37f-4aeb-4dbb-8d3a-873ed3ecea6d"
      },
      "execution_count": null,
      "outputs": [
        {
          "output_type": "stream",
          "name": "stdout",
          "text": [
            "Sunday\n",
            "Monday\n",
            "Tuesday\n",
            "Wednesday\n",
            "Thursday\n",
            "Friday\n",
            "Saturday\n"
          ]
        }
      ]
    },
    {
      "cell_type": "markdown",
      "source": [
        "Example 2 (The break statement)"
      ],
      "metadata": {
        "id": "jNJIb90dg5dX"
      }
    },
    {
      "cell_type": "code",
      "source": [
        "week=[\"Sunday\",\"Monday\",\"Tuesday\",\"Wednesday\",\"Thursday\",\"Friday\",\"Saturday\"]\n",
        "for x in week:\n",
        "  print(x)\n",
        "  if x==\"Thursday\":\n",
        "    break"
      ],
      "metadata": {
        "colab": {
          "base_uri": "https://localhost:8080/"
        },
        "id": "f0q2v_S5g502",
        "outputId": "ac55fc60-95db-4602-c1d7-97a1acc6fbd7"
      },
      "execution_count": null,
      "outputs": [
        {
          "output_type": "stream",
          "name": "stdout",
          "text": [
            "Sunday\n",
            "Monday\n",
            "Tuesday\n",
            "Wednesday\n",
            "Thursday\n"
          ]
        }
      ]
    },
    {
      "cell_type": "markdown",
      "source": [
        "Example 3 (The break statement)"
      ],
      "metadata": {
        "id": "r-ScJzVkg6Su"
      }
    },
    {
      "cell_type": "code",
      "source": [
        "week=[\"Sunday\",\"Monday\",\"Tuesday\",\"Wednesday\",\"Thursday\",\"Friday\",\"Saturday\"]\n",
        "for x in week:\n",
        "\n",
        "  if x==\"Thursday\":\n",
        "    break\n",
        "  print(x)"
      ],
      "metadata": {
        "colab": {
          "base_uri": "https://localhost:8080/"
        },
        "id": "U2Vo6bbxg6m_",
        "outputId": "87ccb689-02e7-4c82-8c5b-2661ccd752da"
      },
      "execution_count": null,
      "outputs": [
        {
          "output_type": "stream",
          "name": "stdout",
          "text": [
            "Sunday\n",
            "Monday\n",
            "Tuesday\n",
            "Wednesday\n"
          ]
        }
      ]
    },
    {
      "cell_type": "markdown",
      "source": [
        "Example 4 (Looping through a string)"
      ],
      "metadata": {
        "id": "uSXZ75EEg60m"
      }
    },
    {
      "cell_type": "code",
      "source": [
        "for x in \"week\":\n",
        "  print (x)\n"
      ],
      "metadata": {
        "colab": {
          "base_uri": "https://localhost:8080/"
        },
        "id": "f32zfftxg7GP",
        "outputId": "587d199b-efef-434f-af28-b83fd2f9cd73"
      },
      "execution_count": null,
      "outputs": [
        {
          "output_type": "stream",
          "name": "stdout",
          "text": [
            "w\n",
            "e\n",
            "e\n",
            "k\n"
          ]
        }
      ]
    },
    {
      "cell_type": "markdown",
      "source": [
        "***Challenging Question*** Example 5 (Application 3) : **Print thursday only using breaking statement**"
      ],
      "metadata": {
        "id": "nQIsJUD4g7S2"
      }
    },
    {
      "cell_type": "code",
      "source": [
        "week=[\"Sunday\",\"Monday\",\"Tuesday\",\"Wednesday\",\"Thursday\",\"Friday\",\"Saturday\"]\n",
        "for x in week:\n",
        "  if x==\"Thursday\":\n",
        "    break\n",
        "print(x)"
      ],
      "metadata": {
        "colab": {
          "base_uri": "https://localhost:8080/"
        },
        "id": "_XuvnaRkg7fn",
        "outputId": "5ef5588e-8680-4120-885f-d249cb021bd4"
      },
      "execution_count": null,
      "outputs": [
        {
          "output_type": "stream",
          "name": "stdout",
          "text": [
            "Thursday\n"
          ]
        }
      ]
    },
    {
      "cell_type": "markdown",
      "source": [
        "The range() function"
      ],
      "metadata": {
        "id": "ZhZYoM2xlgFv"
      }
    },
    {
      "cell_type": "code",
      "source": [
        "print(\"range(6)\")\n",
        "for x in range(6):\n",
        "  print(x)\n",
        "print(\"range(2,6)\")\n",
        "for x in range(2,6):\n",
        "  print(x)\n",
        "print(\"range(0,100,20)\")\n",
        "for x in range(0,100,20):\n",
        "  print(x)"
      ],
      "metadata": {
        "colab": {
          "base_uri": "https://localhost:8080/"
        },
        "id": "rGQhboNDlwK-",
        "outputId": "e9838f67-77a8-45f7-f1c8-6f8cdda6d0d0"
      },
      "execution_count": null,
      "outputs": [
        {
          "output_type": "stream",
          "name": "stdout",
          "text": [
            "range(6)\n",
            "0\n",
            "1\n",
            "2\n",
            "3\n",
            "4\n",
            "5\n",
            "range(2,6)\n",
            "2\n",
            "3\n",
            "4\n",
            "5\n",
            "range(0,100,20)\n",
            "0\n",
            "20\n",
            "40\n",
            "60\n",
            "80\n"
          ]
        }
      ]
    },
    {
      "cell_type": "markdown",
      "source": [
        "Nested Loops"
      ],
      "metadata": {
        "id": "2I4oOUHMmvZm"
      }
    },
    {
      "cell_type": "code",
      "source": [
        "adjectiv=[\"red\",\"big\",\"tasty\"]\n",
        "fruits=[\"apple\",\"banana\",\"cherry\"]\n",
        "for x in adjectiv:\n",
        "  for y in fruits:\n",
        "    print(x,y)"
      ],
      "metadata": {
        "colab": {
          "base_uri": "https://localhost:8080/"
        },
        "id": "Ilsk-iX3m1D-",
        "outputId": "2f4daf6f-e044-42de-823d-1341f3d4d8b2"
      },
      "execution_count": null,
      "outputs": [
        {
          "output_type": "stream",
          "name": "stdout",
          "text": [
            "red apple\n",
            "red banana\n",
            "red cherry\n",
            "big apple\n",
            "big banana\n",
            "big cherry\n",
            "tasty apple\n",
            "tasty banana\n",
            "tasty cherry\n"
          ]
        }
      ]
    },
    {
      "cell_type": "markdown",
      "source": [
        "While Statement"
      ],
      "metadata": {
        "id": "XIFgW0cen1uE"
      }
    },
    {
      "cell_type": "code",
      "source": [
        "i=1\n",
        "while i<6:\n",
        "  print(i)\n",
        "  i+=1"
      ],
      "metadata": {
        "colab": {
          "base_uri": "https://localhost:8080/"
        },
        "id": "sEk7a6stn2LE",
        "outputId": "235aeede-2e2f-41e4-bfe3-fcaaa6d4a103"
      },
      "execution_count": null,
      "outputs": [
        {
          "output_type": "stream",
          "name": "stdout",
          "text": [
            "1\n",
            "2\n",
            "3\n",
            "4\n",
            "5\n"
          ]
        }
      ]
    },
    {
      "cell_type": "markdown",
      "source": [
        "The Break Statement"
      ],
      "metadata": {
        "id": "SXBezX2soj_2"
      }
    },
    {
      "cell_type": "code",
      "source": [
        "i=1\n",
        "while i<6:\n",
        "  print(i)\n",
        "  if i==3:\n",
        "    break\n",
        "  i+=1"
      ],
      "metadata": {
        "colab": {
          "base_uri": "https://localhost:8080/"
        },
        "id": "NBCgnk9DokVF",
        "outputId": "5d914773-02f1-4cb4-bbba-49e3a9ba1dd9"
      },
      "execution_count": null,
      "outputs": [
        {
          "output_type": "stream",
          "name": "stdout",
          "text": [
            "1\n",
            "2\n",
            "3\n"
          ]
        }
      ]
    },
    {
      "cell_type": "markdown",
      "source": [
        "The continue statement"
      ],
      "metadata": {
        "id": "-BOGXXVepKcV"
      }
    },
    {
      "cell_type": "code",
      "source": [
        "i=0\n",
        "while i<6:\n",
        "  i+=1\n",
        "  if i==3:\n",
        "    continue\n",
        "  print(i)"
      ],
      "metadata": {
        "colab": {
          "base_uri": "https://localhost:8080/"
        },
        "id": "4LlNklvUpK4F",
        "outputId": "4562a474-af6e-4bf8-a819-0b57761004d4"
      },
      "execution_count": null,
      "outputs": [
        {
          "output_type": "stream",
          "name": "stdout",
          "text": [
            "1\n",
            "2\n",
            "4\n",
            "5\n",
            "6\n"
          ]
        }
      ]
    },
    {
      "cell_type": "markdown",
      "source": [
        "The else statement"
      ],
      "metadata": {
        "id": "pi1PWHvarJF-"
      }
    },
    {
      "cell_type": "code",
      "source": [
        "i=1\n",
        "while i<6:\n",
        "  print(i)\n",
        "  i+=1\n",
        "else:\n",
        "  print(\"i is no longer less than 6\")"
      ],
      "metadata": {
        "colab": {
          "base_uri": "https://localhost:8080/"
        },
        "id": "jOW0AfmQrKcV",
        "outputId": "e6855196-d261-41e3-fea3-caa6068a6d1a"
      },
      "execution_count": null,
      "outputs": [
        {
          "output_type": "stream",
          "name": "stdout",
          "text": [
            "1\n",
            "2\n",
            "3\n",
            "4\n",
            "5\n",
            "i is no longer less than 6\n"
          ]
        }
      ]
    },
    {
      "cell_type": "markdown",
      "source": [
        "**Let's Try** Create a Pythoon program that displays:\n",
        "\n",
        "      Hello 0\n",
        "      Hello 1\n",
        "      Hello 2\n",
        "      Hello 3\n",
        "      Hello 4\n",
        "      Hello 5\n",
        "      Hello 6\n",
        "      Hello 7\n",
        "      Hello 8\n",
        "      Hello 9\n",
        "      Hello 10"
      ],
      "metadata": {
        "id": "l951D46Vr5ON"
      }
    },
    {
      "cell_type": "code",
      "source": [
        "i=0\n",
        "while i<11:\n",
        "  print(\"Hello\",i)\n",
        "  i+=1"
      ],
      "metadata": {
        "colab": {
          "base_uri": "https://localhost:8080/"
        },
        "id": "juwge0E1sAdV",
        "outputId": "711fd675-ca7b-49e7-9f87-69c39566da67"
      },
      "execution_count": null,
      "outputs": [
        {
          "output_type": "stream",
          "name": "stdout",
          "text": [
            "Hello 0\n",
            "Hello 1\n",
            "Hello 2\n",
            "Hello 3\n",
            "Hello 4\n",
            "Hello 5\n",
            "Hello 6\n",
            "Hello 7\n",
            "Hello 8\n",
            "Hello 9\n",
            "Hello 10\n"
          ]
        }
      ]
    },
    {
      "cell_type": "markdown",
      "source": [
        "**Let's Try** Create a Pythoon program that displays integers less than 10 but not less than 3\n"
      ],
      "metadata": {
        "id": "Axnq73m3sFrk"
      }
    },
    {
      "cell_type": "code",
      "source": [
        "for i in range(3,10):\n",
        "  print(i)\n"
      ],
      "metadata": {
        "colab": {
          "base_uri": "https://localhost:8080/"
        },
        "id": "Q5211AfqspNd",
        "outputId": "61f5f8e8-c267-4bea-e9bd-a89fd76493d4"
      },
      "execution_count": null,
      "outputs": [
        {
          "output_type": "stream",
          "name": "stdout",
          "text": [
            "3\n",
            "4\n",
            "5\n",
            "6\n",
            "7\n",
            "8\n",
            "9\n"
          ]
        }
      ]
    },
    {
      "cell_type": "code",
      "source": [
        "i=3\n",
        "while i<10:\n",
        "  print(i)\n",
        "  i+=1"
      ],
      "metadata": {
        "colab": {
          "base_uri": "https://localhost:8080/"
        },
        "id": "f0qgNvKHs_uN",
        "outputId": "1353e382-551a-445f-b911-de59b01db897"
      },
      "execution_count": null,
      "outputs": [
        {
          "output_type": "stream",
          "name": "stdout",
          "text": [
            "3\n",
            "4\n",
            "5\n",
            "6\n",
            "7\n",
            "8\n",
            "9\n"
          ]
        }
      ]
    }
  ]
}
