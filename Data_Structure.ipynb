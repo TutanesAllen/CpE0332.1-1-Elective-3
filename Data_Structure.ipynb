{
  "nbformat": 4,
  "nbformat_minor": 0,
  "metadata": {
    "colab": {
      "provenance": [],
      "authorship_tag": "ABX9TyPZQeR0BBQdV5cWMwhvmmIg",
      "include_colab_link": true
    },
    "kernelspec": {
      "name": "python3",
      "display_name": "Python 3"
    },
    "language_info": {
      "name": "python"
    }
  },
  "cells": [
    {
      "cell_type": "markdown",
      "metadata": {
        "id": "view-in-github",
        "colab_type": "text"
      },
      "source": [
        "<a href=\"https://colab.research.google.com/github/TutanesAllen/CpE0332.1-1-Elective-3/blob/main/Data_Structure.ipynb\" target=\"_parent\"><img src=\"https://colab.research.google.com/assets/colab-badge.svg\" alt=\"Open In Colab\"/></a>"
      ]
    },
    {
      "cell_type": "markdown",
      "source": [
        "Lists"
      ],
      "metadata": {
        "id": "ZGSymua--1wi"
      }
    },
    {
      "cell_type": "code",
      "source": [
        "pi =3.14159\n",
        "varlist= [1,2,'A','B','Hello',pi]\n",
        "print(varlist[0])\n",
        "print(varlist[4])\n",
        "varlist.append('World')\n",
        "print(varlist[6])"
      ],
      "metadata": {
        "colab": {
          "base_uri": "https://localhost:8080/"
        },
        "id": "p9LnTHnS-1-i",
        "outputId": "e2f40d19-133a-466b-e5c1-8909128fe04f"
      },
      "execution_count": null,
      "outputs": [
        {
          "output_type": "stream",
          "name": "stdout",
          "text": [
            "1\n",
            "Hello\n",
            "World\n"
          ]
        }
      ]
    },
    {
      "cell_type": "code",
      "source": [
        "len(varlist)"
      ],
      "metadata": {
        "colab": {
          "base_uri": "https://localhost:8080/"
        },
        "id": "rnH8LdMU-2jq",
        "outputId": "abee99c6-9b7b-4180-dca0-93931cca3a4c"
      },
      "execution_count": null,
      "outputs": [
        {
          "output_type": "execute_result",
          "data": {
            "text/plain": [
              "7"
            ]
          },
          "metadata": {},
          "execution_count": 5
        }
      ]
    },
    {
      "cell_type": "code",
      "source": [
        "print(varlist[5])\n",
        "varlist.remove(pi)\n",
        "print(varlist[5])"
      ],
      "metadata": {
        "colab": {
          "base_uri": "https://localhost:8080/"
        },
        "id": "E5N95ouh-3AZ",
        "outputId": "6c78cf19-01b7-47fa-edf3-8784a248389a"
      },
      "execution_count": null,
      "outputs": [
        {
          "output_type": "stream",
          "name": "stdout",
          "text": [
            "3.14159\n",
            "World\n"
          ]
        }
      ]
    },
    {
      "cell_type": "markdown",
      "source": [
        "Dictionaries"
      ],
      "metadata": {
        "id": "ApW1_3Td-3Mp"
      }
    },
    {
      "cell_type": "code",
      "source": [
        "var= 'Hello World!'\n",
        "varDict = {'first':123,2:'abc','3':var,4:['lista','listb']}\n",
        "print(varDict['first'])\n",
        "print(varDict[2])\n",
        "print(varDict['3'])\n",
        "print(varDict[4])\n",
        "print(varDict[4][1])\n",
        "varDict[4].append('listc')\n",
        "print(varDict[4])"
      ],
      "metadata": {
        "colab": {
          "base_uri": "https://localhost:8080/"
        },
        "id": "lsr6oSsf-3iq",
        "outputId": "7c80e53f-38d3-4f1d-bce8-7fb901d5a13c"
      },
      "execution_count": null,
      "outputs": [
        {
          "output_type": "stream",
          "name": "stdout",
          "text": [
            "123\n",
            "abc\n",
            "Hello World!\n",
            "['lista', 'listb']\n",
            "listb\n",
            "['lista', 'listb', 'listc']\n"
          ]
        }
      ]
    },
    {
      "cell_type": "markdown",
      "source": [
        "**Student Dictionary**"
      ],
      "metadata": {
        "id": "NSxW5ULv-3zx"
      }
    },
    {
      "cell_type": "code",
      "source": [
        "studentDict = {\n",
        "    'student':'Allen Christopher O. Tutanes',\n",
        "    'age':21,\n",
        "    'birthday':41203\n",
        "    }\n",
        "print(studentDict['student'])\n",
        "print(studentDict['age'])\n",
        "print(studentDict['birthday'])"
      ],
      "metadata": {
        "colab": {
          "base_uri": "https://localhost:8080/"
        },
        "id": "fkr0A3q6-4GC",
        "outputId": "02e041cf-9646-4b5f-8df8-1fea7195e15c"
      },
      "execution_count": null,
      "outputs": [
        {
          "output_type": "stream",
          "name": "stdout",
          "text": [
            "Allen Christopher O. Tutanes\n",
            "21\n",
            "41203\n"
          ]
        }
      ]
    },
    {
      "cell_type": "markdown",
      "source": [
        "Slicing"
      ],
      "metadata": {
        "id": "jAQ4fJVG-4Rq"
      }
    },
    {
      "cell_type": "code",
      "source": [
        "varlist=[1,2,3,4,5,6,7,8,9,10]\n",
        "print(varlist[:5])\n",
        "print(varlist[5:])\n",
        "print(varlist[:-2])\n",
        "print(varlist[-2:])\n",
        "print(varlist[2:-2])\n",
        "print(varlist[2:8:2])"
      ],
      "metadata": {
        "colab": {
          "base_uri": "https://localhost:8080/"
        },
        "id": "c5QQP3PO-4lp",
        "outputId": "b5697d40-c929-4f50-fdf1-1d75b2a3c7c9"
      },
      "execution_count": null,
      "outputs": [
        {
          "output_type": "stream",
          "name": "stdout",
          "text": [
            "[1, 2, 3, 4, 5]\n",
            "[6, 7, 8, 9, 10]\n",
            "[1, 2, 3, 4, 5, 6, 7, 8]\n",
            "[9, 10]\n",
            "[3, 4, 5, 6, 7, 8]\n",
            "[3, 5, 7]\n"
          ]
        }
      ]
    },
    {
      "cell_type": "markdown",
      "source": [],
      "metadata": {
        "id": "o51lFE-G-406"
      }
    },
    {
      "cell_type": "code",
      "source": [],
      "metadata": {
        "id": "g4uuy6SR-5Op"
      },
      "execution_count": null,
      "outputs": []
    }
  ]
}