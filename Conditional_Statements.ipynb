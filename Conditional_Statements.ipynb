{
  "nbformat": 4,
  "nbformat_minor": 0,
  "metadata": {
    "colab": {
      "provenance": [],
      "authorship_tag": "ABX9TyNbS/dAzRxAsek9lpegYpCn",
      "include_colab_link": true
    },
    "kernelspec": {
      "name": "python3",
      "display_name": "Python 3"
    },
    "language_info": {
      "name": "python"
    }
  },
  "cells": [
    {
      "cell_type": "markdown",
      "metadata": {
        "id": "view-in-github",
        "colab_type": "text"
      },
      "source": [
        "<a href=\"https://colab.research.google.com/github/TutanesAllen/CpE0332.1-1-Elective-3/blob/main/Conditional_Statements.ipynb\" target=\"_parent\"><img src=\"https://colab.research.google.com/assets/colab-badge.svg\" alt=\"Open In Colab\"/></a>"
      ]
    },
    {
      "cell_type": "code",
      "source": [
        "age=int(input(\"Enter your age: \"))\n",
        "if age>=18:\n",
        "    print(\"you are eligible to vote\")\n",
        "elif age<18:\n",
        "    print(\"you are not eligible to vote\")"
      ],
      "metadata": {
        "colab": {
          "base_uri": "https://localhost:8080/"
        },
        "id": "PemlHyx-Gv4i",
        "outputId": "6f18950f-63da-4c3d-f7ce-b4ca8b0bcb42"
      },
      "execution_count": 13,
      "outputs": [
        {
          "output_type": "stream",
          "name": "stdout",
          "text": [
            "Enter your age: 17\n",
            "you are not eligible to vote\n"
          ]
        }
      ]
    },
    {
      "cell_type": "markdown",
      "source": [
        "if, elseif, else statement"
      ],
      "metadata": {
        "id": "zrKv3yTVGnr5"
      }
    },
    {
      "cell_type": "code",
      "execution_count": 15,
      "metadata": {
        "colab": {
          "base_uri": "https://localhost:8080/"
        },
        "id": "gPeZyvifDykr",
        "outputId": "3395058a-f51c-4a28-d63e-4146964a8e97"
      },
      "outputs": [
        {
          "output_type": "stream",
          "name": "stdout",
          "text": [
            "Enter a number 0\n",
            "Zero\n"
          ]
        }
      ],
      "source": [
        "age=int(input(\"Enter a number \"))\n",
        "if age>0:\n",
        "    print(\"Positive Number\")\n",
        "elif age<0:\n",
        "    print(\"Negative Number\")\n",
        "else:\n",
        "    print(\"Zero\")"
      ]
    },
    {
      "cell_type": "markdown",
      "source": [
        "Short Hand if..else statement"
      ],
      "metadata": {
        "id": "MXeLTIidF2nY"
      }
    },
    {
      "cell_type": "code",
      "source": [
        "a,b=10,20\n",
        "print(a) if a>b else print(b)"
      ],
      "metadata": {
        "colab": {
          "base_uri": "https://localhost:8080/"
        },
        "id": "SOJuVcVoF1zx",
        "outputId": "0163b538-e348-4389-8954-6deaece10c3d"
      },
      "execution_count": 10,
      "outputs": [
        {
          "output_type": "stream",
          "name": "stdout",
          "text": [
            "20\n"
          ]
        }
      ]
    },
    {
      "cell_type": "markdown",
      "source": [
        "And-both conditions are true"
      ],
      "metadata": {
        "id": "H1kXu4laGTpA"
      }
    },
    {
      "cell_type": "code",
      "source": [
        "a=200\n",
        "b=33\n",
        "c=500\n",
        "if a>b and c>a:\n",
        "    print(\"Both conditions are True\")\n",
        "else:\n",
        "    print(\"At least one of the condition is False\")"
      ],
      "metadata": {
        "colab": {
          "base_uri": "https://localhost:8080/"
        },
        "id": "RybrqYOlGWtj",
        "outputId": "1c989908-9346-41f6-c237-42690573bf28"
      },
      "execution_count": 12,
      "outputs": [
        {
          "output_type": "stream",
          "name": "stdout",
          "text": [
            "Both conditions are True\n"
          ]
        }
      ]
    },
    {
      "cell_type": "markdown",
      "source": [
        "Or-Any statement is true"
      ],
      "metadata": {
        "id": "s0_f4eHkGerQ"
      }
    },
    {
      "cell_type": "code",
      "source": [
        "a=200\n",
        "b=33\n",
        "c=500\n",
        "if a>b or a>c:\n",
        "    print(\"At least one of the condition is True\")\n",
        "else:\n",
        "    print(\"Both conditions are False\")"
      ],
      "metadata": {
        "colab": {
          "base_uri": "https://localhost:8080/"
        },
        "id": "rHtEGilhHKHQ",
        "outputId": "88e36b66-ea1a-4e89-e4a5-0664a0732c01"
      },
      "execution_count": 16,
      "outputs": [
        {
          "output_type": "stream",
          "name": "stdout",
          "text": [
            "At least one of the condition is True\n"
          ]
        }
      ]
    },
    {
      "cell_type": "markdown",
      "source": [
        "Nested if"
      ],
      "metadata": {
        "id": "2MaEstEzHOEo"
      }
    },
    {
      "cell_type": "code",
      "source": [
        "x=int(input(\"Enter a number: \"))\n",
        "if x>10:\n",
        "    print(\"Above ten,\")\n",
        "    if x>20:\n",
        "        print(\"and also above 20!\")\n",
        "    else:\n",
        "        print(\"but not above 20.\")"
      ],
      "metadata": {
        "colab": {
          "base_uri": "https://localhost:8080/"
        },
        "id": "zLJCU7-eHVdh",
        "outputId": "cb226290-fac0-416b-9f00-a6984d86348b"
      },
      "execution_count": 19,
      "outputs": [
        {
          "output_type": "stream",
          "name": "stdout",
          "text": [
            "Enter a number 19\n",
            "Above ten,\n",
            "but not above 20.\n"
          ]
        }
      ]
    },
    {
      "cell_type": "markdown",
      "source": [
        "Application 2, Example 3\n",
        "\n",
        "\n",
        "```\n",
        "Write a program to determine if the grades are:\n",
        "  If:\n",
        "    grade >=75, \"Pass\"\n",
        "    grade =74, \"Remedial\"\n",
        "    grade <74, \"Fail\"\n",
        "\n",
        "\n"
      ],
      "metadata": {
        "id": "w29wd9FBLBJC"
      }
    },
    {
      "cell_type": "code",
      "source": [
        "grade=int(input(\"Enter your grade: \"))\n",
        "if grade >=75:\n",
        "   print(\"Pass\")\n",
        "elif grade==74:\n",
        "   print(\"Remedial\")\n",
        "elif grade <74:\n",
        "   print(\"Fail\")"
      ],
      "metadata": {
        "colab": {
          "base_uri": "https://localhost:8080/"
        },
        "id": "3fmidNypMPe2",
        "outputId": "28a7a667-041a-4221-f8b0-ff6b6a73cc32"
      },
      "execution_count": 23,
      "outputs": [
        {
          "output_type": "stream",
          "name": "stdout",
          "text": [
            "Enter your grade: 74\n",
            "Remedial\n"
          ]
        }
      ]
    }
  ]
}